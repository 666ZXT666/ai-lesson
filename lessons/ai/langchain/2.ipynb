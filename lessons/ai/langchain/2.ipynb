{
 "cells": [
  {
   "cell_type": "code",
   "execution_count": 1,
   "id": "c0a08e42-9c49-425e-9862-e97b17a886dc",
   "metadata": {
    "execution": {
     "iopub.execute_input": "2025-01-07T07:30:43.199350Z",
     "iopub.status.busy": "2025-01-07T07:30:43.199034Z",
     "iopub.status.idle": "2025-01-07T07:30:43.204419Z",
     "shell.execute_reply": "2025-01-07T07:30:43.203996Z",
     "shell.execute_reply.started": "2025-01-07T07:30:43.199329Z"
    },
    "tags": []
   },
   "outputs": [],
   "source": [
    "# 导入内置 操作系统模块\n",
    "import os\n",
    "# 环境变量\n",
    "os.environ[\"OPENAI_API_KEY\"] = \"sk-yC52cYQkz0aMXJA5PySMUXdpVNBVNgKkdsv5kjEZpdx93PVs\"\n",
    "os.environ[\"OPENAI_BASE_URL\"] = \"https://api.302.ai/v1/\""
   ]
  },
  {
   "cell_type": "code",
   "execution_count": 5,
   "id": "b426b18f-7dd9-49cc-83d4-d03480b54d6f",
   "metadata": {
    "ExecutionIndicator": {
     "show": true
    },
    "execution": {
     "iopub.execute_input": "2025-01-07T07:38:47.039612Z",
     "iopub.status.busy": "2025-01-07T07:38:47.039271Z",
     "iopub.status.idle": "2025-01-07T07:38:47.133316Z",
     "shell.execute_reply": "2025-01-07T07:38:47.132821Z",
     "shell.execute_reply.started": "2025-01-07T07:38:47.039592Z"
    },
    "tags": []
   },
   "outputs": [],
   "source": [
    "# 聊天模型\n",
    "from langchain_openai import ChatOpenAI\n",
    "chat = ChatOpenAI(\n",
    "      model=\"gpt-3.5-turbo\",\n",
    "      temperature=0.8,\n",
    "      max_tokens=60    \n",
    ")"
   ]
  },
  {
   "cell_type": "code",
   "execution_count": 10,
   "id": "84c37482-b1a6-499d-a449-0c1c86ea58ef",
   "metadata": {
    "ExecutionIndicator": {
     "show": true
    },
    "execution": {
     "iopub.execute_input": "2025-01-07T07:45:52.959370Z",
     "iopub.status.busy": "2025-01-07T07:45:52.959013Z",
     "iopub.status.idle": "2025-01-07T07:45:57.029677Z",
     "shell.execute_reply": "2025-01-07T07:45:57.029209Z",
     "shell.execute_reply.started": "2025-01-07T07:45:52.959348Z"
    },
    "tags": []
   },
   "outputs": [
    {
     "name": "stdout",
     "output_type": "stream",
     "text": [
      "content='如何看待“花馨阁”这个名字？' additional_kwargs={'refusal': None} response_metadata={'token_usage': {'completion_tokens': 17, 'prompt_tokens': 33, 'total_tokens': 50, 'completion_tokens_details': {'accepted_prediction_tokens': 0, 'audio_tokens': 0, 'reasoning_tokens': 0, 'rejected_prediction_tokens': 0}, 'prompt_tokens_details': {'audio_tokens': 0, 'cached_tokens': 0}}, 'model_name': 'gpt-3.5-turbo', 'system_fingerprint': None, 'finish_reason': 'stop', 'logprobs': None} id='run-5d419e3e-f887-4f3e-8916-f527ec9b6428-0' usage_metadata={'input_tokens': 33, 'output_tokens': 17, 'total_tokens': 50, 'input_token_details': {'audio': 0, 'cache_read': 0}, 'output_token_details': {'audio': 0, 'reasoning': 0}}\n",
      "如何看待“花馨阁”这个名字？\n"
     ]
    }
   ],
   "source": [
    "from langchain.schema import (\n",
    "    SystemMessage,\n",
    "    HumanMessage\n",
    ")\n",
    "#messages = [\n",
    "# { role: 'system', content: '你是一个风水大师'},\n",
    "# {role: 'user',content:'请给我的花店起个名字'},\n",
    "#     //asistant\n",
    "# ]\n",
    "messages = [\n",
    "    SystemMessage(content=\"你是一个很棒的风水师\"),\n",
    "    HumanMessage(content=\"请给我的花店起个名\")\n",
    "]\n",
    "response = chat(messages)\n",
    "print(response)\n",
    "print(response.content)"
   ]
  }
 ],
 "metadata": {
  "kernelspec": {
   "display_name": "Python 3 (ipykernel)",
   "language": "python",
   "name": "python3"
  },
  "language_info": {
   "codemirror_mode": {
    "name": "ipython",
    "version": 3
   },
   "file_extension": ".py",
   "mimetype": "text/x-python",
   "name": "python",
   "nbconvert_exporter": "python",
   "pygments_lexer": "ipython3",
   "version": "3.10.14"
  }
 },
 "nbformat": 4,
 "nbformat_minor": 5
}
