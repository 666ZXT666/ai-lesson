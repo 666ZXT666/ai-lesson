{
 "cells": [
  {
   "cell_type": "code",
   "execution_count": 1,
   "id": "c860f606-205a-48d5-b732-3e726d2b7029",
   "metadata": {
    "execution": {
     "iopub.execute_input": "2025-01-07T07:53:37.979236Z",
     "iopub.status.busy": "2025-01-07T07:53:37.978918Z",
     "iopub.status.idle": "2025-01-07T07:53:37.984326Z",
     "shell.execute_reply": "2025-01-07T07:53:37.983897Z",
     "shell.execute_reply.started": "2025-01-07T07:53:37.979215Z"
    },
    "tags": []
   },
   "outputs": [],
   "source": [
    "# 导入内置 操作系统模块\n",
    "import os\n",
    "# 环境变量\n",
    "os.environ[\"OPENAI_API_KEY\"] = \"sk-yC52cYQkz0aMXJA5PySMUXdpVNBVNgKkdsv5kjEZpdx93PVs\"\n",
    "os.environ[\"OPENAI_BASE_URL\"] = \"https://api.302.ai/v1/\""
   ]
  },
  {
   "cell_type": "code",
   "execution_count": 7,
   "id": "236f0645-023d-486e-b3fe-0732474eae98",
   "metadata": {
    "ExecutionIndicator": {
     "show": true
    },
    "execution": {
     "iopub.execute_input": "2025-01-07T08:08:18.244357Z",
     "iopub.status.busy": "2025-01-07T08:08:18.244010Z",
     "iopub.status.idle": "2025-01-07T08:08:18.248062Z",
     "shell.execute_reply": "2025-01-07T08:08:18.247545Z",
     "shell.execute_reply.started": "2025-01-07T08:08:18.244328Z"
    },
    "tags": []
   },
   "outputs": [
    {
     "name": "stdout",
     "output_type": "stream",
     "text": [
      "你是一位专业的鲜花店的文案撰写员。\n",
      "对于售价为99 元的玫瑰,你能提供一个吸引人的简短描述吗？\n",
      "\n",
      "\n",
      "\n"
     ]
    }
   ],
   "source": [
    "\n",
    "from langchain.prompts import PromptTemplate\n",
    "# es6其实在python中借鉴了很多语法规则 模块化\n",
    "# 模板字符串  多行 模板+数据编译 -> 字符串\n",
    "# 各种场景的复用\n",
    "template = \"\"\"你是一位专业的鲜花店的文案撰写员。\n",
    "对于售价为{price} 元的{flower_name},你能提供一个吸引人的简短描述吗？\n",
    "\\n\n",
    "\"\"\"\n",
    "prompt = PromptTemplate.from_template(template)\n",
    "# print(prompt)\n",
    "\n",
    "input = prompt.format(flower_name=\"玫瑰\",price=\"99\")\n",
    "print(input)\n"
   ]
  },
  {
   "cell_type": "code",
   "execution_count": 9,
   "id": "906c7418-855d-4086-8b9b-10d9cbeab50d",
   "metadata": {
    "ExecutionIndicator": {
     "show": true
    },
    "execution": {
     "iopub.execute_input": "2025-01-07T08:15:04.639177Z",
     "iopub.status.busy": "2025-01-07T08:15:04.638851Z",
     "iopub.status.idle": "2025-01-07T08:15:07.723233Z",
     "shell.execute_reply": "2025-01-07T08:15:07.722749Z",
     "shell.execute_reply.started": "2025-01-07T08:15:04.639158Z"
    },
    "tags": []
   },
   "outputs": [
    {
     "name": "stdout",
     "output_type": "stream",
     "text": [
      "\n",
      "\"令人心动的99元玫瑰，充满爱意的花束，完美表达您的真挚情感。精美的花艺设计，洋溢着浪漫的气息，让您的爱人感受到无与伦比的温柔与关怀。让这束玫瑰成为您爱意的象征，让爱在花开的美丽中永恒。\"\n"
     ]
    }
   ],
   "source": [
    "from langchain_openai import OpenAI\n",
    "model = OpenAI(model_name=\"gpt-3.5-turbo-instruct\")\n",
    "\n",
    "output = model.invoke(input)\n",
    "print(output)"
   ]
  }
 ],
 "metadata": {
  "kernelspec": {
   "display_name": "Python 3 (ipykernel)",
   "language": "python",
   "name": "python3"
  },
  "language_info": {
   "codemirror_mode": {
    "name": "ipython",
    "version": 3
   },
   "file_extension": ".py",
   "mimetype": "text/x-python",
   "name": "python",
   "nbconvert_exporter": "python",
   "pygments_lexer": "ipython3",
   "version": "3.10.14"
  }
 },
 "nbformat": 4,
 "nbformat_minor": 5
}
